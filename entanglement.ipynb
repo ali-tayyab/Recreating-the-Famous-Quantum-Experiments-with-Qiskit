{
 "cells": [
  {
   "cell_type": "code",
   "execution_count": 20,
   "id": "9d7ea3e8",
   "metadata": {},
   "outputs": [],
   "source": [
    "from imports import *"
   ]
  },
  {
   "cell_type": "markdown",
   "id": "c03a07ad",
   "metadata": {},
   "source": [
    "### **Quantum Entanglement**\n",
    "**Quantum entanglement** links two particles so that measuring one instantly tells us about the other — even if they're far apart. Einstein called this “spooky action at a distance.” In 1964, **Bell’s inequality** was proposed to test if particles follow classical rules. The **CHSH experiment** showed that entangled particles behave in ways classical physics can’t explain. In 1997, scientists used entanglement to achieve **quantum teleportation** — sending a quantum state without moving the particle itself.\n",
    "\n",
    "Let’s use **Qiskit** to explore the CHSH test and quantum teleportation!"
   ]
  },
  {
   "cell_type": "markdown",
   "metadata": {},
   "source": [
    "### **CHSH Game**\n",
    "The CHSH game is a thought experiment based on ideas from quantum physics. It was proposed as a way to test whether the world behaves according to classical rules or quantum mechanics. In 1964, physicist [John Bell](https://en.wikipedia.org/wiki/John_Stewart_Bell) introduced Bell's inequality to show that certain predictions of quantum mechanics can't be explained by any local classical theory. Later, Clauser, Horne, Shimony, and Holt (CHSH) created a practical version of this test — now called the CHSH game. The game involves two players, Alice and Bob, who cannot talk to each other once the game starts. They try to win a challenge given by a Referee by using a strategy they agree on beforehand.\n",
    "\n",
    "Here’s how the CHSH game works:\n",
    "\n",
    "1. The Referee randomly picks two input bits: `x` and `y`.\n",
    "2. `x` is sent to Alice, and `y` is sent to Bob.\n",
    "3. Without knowing each other's input, Alice and Bob each send back one bit: `a` and `b`.\n",
    "4. **They win if:** `a XOR b == x AND y`\n",
    "\n",
    "This means:\n",
    "- In most cases, when `x` and `y` are not both 1, Alice and Bob should give the same answer.\n",
    "- If both `x = 1` and `y = 1`, they must give different answers.\n",
    "\n",
    "Since they can't communicate, they need a strategy that works on average. With only classical logic, the best they can do is win **75%** of the time.\n"
   ]
  },
  {
   "cell_type": "markdown",
   "id": "1d4379bb",
   "metadata": {},
   "source": [
    "### **Classical Limit**\n",
    "The classical limit of this game is win_probability $\\leq = 75% $. To understand why the classical success rate in the CHSH game is limited to 75%, let’s look at all possible input combinations the Referee might send:\n",
    "$$(x, y) \\in \\{(0,0), (0,1), (1,0), (1,1)\\}$$\n",
    "The win condition is:\n",
    "$$a \\oplus b == x \\land y$$\n",
    "This means:\n",
    "- For (0,0), (0,1), and (1,0), the right side is 0 → Alice and Bob must give the **same** output.\n",
    "- For (1,1), the right side is 1 → they must give **different** outputs.\n",
    "\n",
    "Now suppose Alice and Bob agree on a fixed classical strategy, like always outputting 0.  \n",
    "They will win for the first 3 cases, but lose when (x, y) = (1,1), because:\n",
    "$$0 \\oplus 0 = 0 \\neq 1 $$\n",
    "No matter what fixed classical strategy they use, **only 3 out of 4 cases can be satisfied**. This means:\n",
    "\n",
    "**The best possible classical success rate is 75%.**"
   ]
  },
  {
   "cell_type": "markdown",
   "id": "f59bf6dd",
   "metadata": {},
   "source": [
    "### **Quantum Strategy**\n",
    "Suppose Alice and Bob share a special quantum resource *before* playing their game — a pair of entangled qubits in the Bell state:\n",
    "\n",
    "$$\n",
    "|\\psi\\rangle = \\frac{1}{\\sqrt{2}} (|00\\rangle + |11\\rangle)\n",
    "$$\n",
    "\n",
    "Think of this state as two \"quantum coins\" that are perfectly correlated: even when separated by vast distances, measuring one immediately determines the outcome correlation of the other. While no information is transmitted faster than light, their results exhibit quantum-connected behavior.\n",
    "\n",
    "Here’s how they use this entangled state to win more often in the CHSH game:\n",
    "\n",
    "1. **Entangled Resource**  \n",
    "   Alice holds qubit 0, Bob holds qubit 1 from their shared Bell state.\n",
    "\n",
    "2. **Input-Dependent Measurement**  \n",
    "   - **Alice**, upon receiving input `x`, measures her qubit as follows:\n",
    "     - If `x = 0`: she measures in the standard **Z basis** (angle 0).\n",
    "     - If `x = 1`: she measures in the **X basis** (angle $\\pi/2$).\n",
    "   - **Bob**, upon receiving input `y`, applies a rotation `Ry(-π/4)` if `y = 0` or `Ry(π/4)` if `y = 1`, then measures in the Z basis.\n",
    "\n",
    "3. **Outcome**  \n",
    "   Each player outputs the result of their measurement: `a` for Alice and `b` for Bob. The magic lies in the quantum correlations: with the above angles, their outputs satisfy the winning condition $a \\oplus b = x \\land y$ with probability higher than the classical limit.\n",
    "\n",
    "Lets now create a quantum circuit to implement this strategy."
   ]
  },
  {
   "cell_type": "code",
   "execution_count": 13,
   "id": "df733784",
   "metadata": {},
   "outputs": [],
   "source": [
    "def chsh_game(x,y):\n",
    "    qc = QuantumCircuit(2, 2, name = f'CHSH_{x}{y}')\n",
    "    # First, Create the Bell State\n",
    "    qc.h(0)                    # put in superposition\n",
    "    qc.cx(0,1)\n",
    "    qc.barrier()\n",
    "    # Alice's measurement basis\n",
    "    if x==1:\n",
    "        qc.h(0)\n",
    "    # Bob's measurement basis\n",
    "    if y==0:\n",
    "        qc.ry(-np.pi / 4, 1)\n",
    "    else:\n",
    "        qc.ry(np.pi / 4, 1)\n",
    "    qc.barrier()\n",
    "\n",
    "    qc.measure([0,1],[0,1])\n",
    "    return qc\n",
    "\n"
   ]
  },
  {
   "cell_type": "markdown",
   "id": "15b79faa",
   "metadata": {},
   "source": [
    "### **Creating circuit for all inputs**"
   ]
  },
  {
   "cell_type": "code",
   "execution_count": 14,
   "id": "f8ce3285",
   "metadata": {},
   "outputs": [
    {
     "name": "stdout",
     "output_type": "stream",
     "text": [
      "Quantum Circuit if x = y = 1\n"
     ]
    },
    {
     "data": {
      "image/png": "[encoded data removed]",
      "text/plain": [
       "<Figure size 705.35x284.278 with 1 Axes>"
      ]
     },
     "metadata": {},
     "output_type": "display_data"
    }
   ],
   "source": [
    "circuits = []\n",
    "input_vals = []\n",
    "for x_in in [0,1]:\n",
    "    for y_in in [0,1]:\n",
    "        input_vals.append((x_in , y_in))\n",
    "        circuits.append(chsh_game(x_in, y_in))\n",
    "print(\"Quantum Circuit if x = y = 1\")\n",
    "if len(circuits) == 4:\n",
    "    display(circuits[3].draw('mpl')) # (x,y) = (1,1)\n",
    "else:\n",
    "    print(\"Circuits not generated\")"
   ]
  },
  {
   "cell_type": "markdown",
   "id": "b491b49e",
   "metadata": {},
   "source": [
    "### **Lets now run the game multiple times**"
   ]
  },
  {
   "cell_type": "code",
   "execution_count": 15,
   "id": "99863347",
   "metadata": {},
   "outputs": [
    {
     "name": "stdout",
     "output_type": "stream",
     "text": [
      "\n",
      "--- Results (Counts) ---\n",
      "Inputs (x = 0, y = 0):\n",
      "  Outcomes (ba): {'00': 436, '01': 89, '10': 73, '11': 426}\n",
      "Inputs (x = 0, y = 1):\n",
      "  Outcomes (ba): {'00': 453, '01': 67, '10': 69, '11': 435}\n",
      "Inputs (x = 1, y = 0):\n",
      "  Outcomes (ba): {'00': 442, '01': 77, '10': 62, '11': 443}\n",
      "Inputs (x = 1, y = 1):\n",
      "  Outcomes (ba): {'00': 65, '01': 443, '10': 438, '11': 78}\n",
      "\n",
      "Plotting results...\n"
     ]
    },
    {
     "data": {
      "image/png": "[encoded data removed]",
      "text/plain": [
       "<Figure size 640x480 with 1 Axes>"
      ]
     },
     "metadata": {},
     "output_type": "display_data"
    }
   ],
   "source": [
    "backend = AerSimulator()\n",
    "num_shots = 1024\n",
    "pass_manager = generate_preset_pass_manager(backend = backend, optimization_level=3)\n",
    "compiled_circuit = pass_manager.run(circuits)\n",
    "\n",
    "sampler_chsh = Sampler(mode = backend)\n",
    "job = sampler_chsh.run(compiled_circuit, shots = num_shots)\n",
    "result = job.result()\n",
    "\n",
    "\n",
    "count_list = [result[i].data.c.get_counts() for i in range(len(circuits))]\n",
    "print(\"\\n--- Results (Counts) ---\")\n",
    "for i, (x,y) in enumerate(input_vals):\n",
    "    print(f\"Inputs (x = {x}, y = {y}):\")\n",
    "    sorted_counts = dict(sorted(count_list[i].items()))\n",
    "    print(f\"  Outcomes (ba): {sorted_counts}\")\n",
    "print(\"\\nPlotting results...\")\n",
    "display(plot_histogram(count_list,legend=[f'(x={x}, y={y})' for x, y in input_vals],title='CHSH Game Outcomes (ba format)'))"
   ]
  },
  {
   "cell_type": "markdown",
   "id": "73e9fbbe",
   "metadata": {},
   "source": [
    "### **Did it beat the classical limit** ?\n",
    "Lets calculate the win probability "
   ]
  },
  {
   "cell_type": "code",
   "execution_count": 17,
   "id": "dd4d7721",
   "metadata": {},
   "outputs": [
    {
     "name": "stdout",
     "output_type": "stream",
     "text": [
      "----- Calculating the win probability -----\n",
      "Inputs (x=0, y=0): Target (a XOR b) = 0. Win Probability = 0.8418\n",
      "Inputs (x=0, y=1): Target (a XOR b) = 0. Win Probability = 0.8672\n",
      "Inputs (x=1, y=0): Target (a XOR b) = 0. Win Probability = 0.8643\n",
      "Inputs (x=1, y=1): Target (a XOR b) = 1. Win Probability = 0.8604\n",
      "\n",
      "--- Overall Performance ---\n",
      "Experimental Average Win Probability: 0.8584\n",
      "Theoretical Quantum Win Probability: 0.8536\n",
      "Classical Limit Win Probability:     0.7500\n",
      "\n",
      "Success! Our result (0.8584) clearly beats the classical 75% limit!\n",
      "It's likely close to the theoretical quantum prediction of 0.8536.\n"
     ]
    }
   ],
   "source": [
    "win_probability = {}\n",
    "print(\"----- Calculating the win probability -----\")\n",
    "\n",
    "for i, (x,y) in enumerate(input_vals):\n",
    "    counts = count_list[i]\n",
    "    xor_result = x & y\n",
    "    wins = 0\n",
    "\n",
    "    for outcome, count in counts.items():\n",
    "        b = int(outcome[0])\n",
    "        a = int(outcome[1])\n",
    "\n",
    "        if (a ^ b) == xor_result:\n",
    "            wins +=  count\n",
    "\n",
    "    prob = wins / num_shots if num_shots > 0 else 0\n",
    "    win_probability[(x,y)] = prob\n",
    "    print(f\"Inputs (x={x}, y={y}): Target (a XOR b) = {xor_result}. Win Probability = {prob:.4f}\")\n",
    "avg_win_prob = sum(win_probability.values()) / 4.0\n",
    "quantum_result = np.cos(np.pi / 8)**2\n",
    "classical_limit = 0.75\n",
    "print(\"\\n--- Overall Performance ---\")\n",
    "print(f\"Experimental Average Win Probability: {avg_win_prob:.4f}\")\n",
    "print(f\"Theoretical Quantum Win Probability: {quantum_result:.4f}\")\n",
    "print(f\"Classical Limit Win Probability:     {classical_limit:.4f}\")\n",
    "\n",
    "if avg_win_prob > classical_limit + 0.01: # Allow for small simulation variance\n",
    "    print(f\"\\nSuccess! Our result ({avg_win_prob:.4f}) clearly beats the classical 75% limit!\")\n",
    "    print(f\"It's likely close to the theoretical quantum prediction of {quantum_result:.4f}.\")\n",
    "elif avg_win_prob > classical_limit - 0.02 : # Could be noise or minor error\n",
    "     print(f\"\\nClose, but no cigar? Your result ({avg_win_prob:.4f}) is around the classical limit ({classical_limit:.4f}).\")\n",
    "     print(\"Check your solutions for Exercises 1-4 carefully, especially the win counting logic in Ex 4.\")\n",
    "else:\n",
    "    print(f\"\\nHmm, the result ({avg_win_prob:.4f}) is unexpectedly low, even below the classical limit.\")\n",
    "    print(\"There might be an error in Exercises 1-4. Please review your circuit and analysis code.\")\n"
   ]
  },
  {
   "cell_type": "markdown",
   "id": "51869e30",
   "metadata": {},
   "source": [
    "The simulation results show that when Alice and Bob use shared entangled qubits along with carefully chosen measurements, they achieve a win probability close to **85.84%**—well above the classical limit of 75%. This clearly demonstrates the power of quantum entanglement in enabling stronger-than-classical correlations. Far from being a mathematical curiosity, this effect reflects the true behavior of the physical world at the quantum level. Entanglement introduces correlations that cannot be explained by any classical mechanism. While these correlations do not allow faster-than-light communication, they defy classical expectations and form the foundation of many emerging quantum technologies.\n",
    "\n",
    "This result from the CHSH game reveals something profound: **quantum mechanics allows for nonlocal correlations** that challenge our classical intuition about how information and causality work in the universe. These quantum correlations are not only of theoretical interest—they have real-world applications, such as in quantum cryptography, device-independent security, quantum teleportation, and tests of quantum hardware fidelity."
   ]
  },
  {
   "cell_type": "code",
   "execution_count": null,
   "id": "7fed8501",
   "metadata": {},
   "outputs": [],
   "source": []
  }
 ],
 "metadata": {
  "kernelspec": {
   "display_name": "cwq",
   "language": "python",
   "name": "python3"
  },
  "language_info": {
   "codemirror_mode": {
    "name": "ipython",
    "version": 3
   },
   "file_extension": ".py",
   "mimetype": "text/x-python",
   "name": "python",
   "nbconvert_exporter": "python",
   "pygments_lexer": "ipython3",
   "version": "3.13.5"
  }
 },
 "nbformat": 4,
 "nbformat_minor": 5
}
