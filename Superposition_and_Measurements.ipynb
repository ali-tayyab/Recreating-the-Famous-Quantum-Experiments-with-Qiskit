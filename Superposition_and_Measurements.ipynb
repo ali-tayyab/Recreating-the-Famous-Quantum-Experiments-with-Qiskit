{
 "cells": [
  {
   "cell_type": "markdown",
   "id": "de6c49a5",
   "metadata": {},
   "source": [
    "### **Superposition, Interference, and Measurement**\n",
    "\n",
    "Superposition and measurement are two of the most important ideas in quantum computing. To understand them, imagine a regular computer bit, which can only be in one state at a time—either 0 or 1. A quantum bit, or **qubit**, is different. It can be in a mix of both 0 and 1 at the same time. This special condition is called **superposition**. But the moment we try to observe or measure the qubit, it \"collapses\" into just one of the two possible states: either $\\ket{0}$ or $\\ket{1}$. One of the most famous experiments that shows this strange behavior is the **double-slit experiment**. It shows how particles like electrons can act like waves, passing through two slits at once and interfering with themselves—unless we try to detect which slit they went through. When we observe them, this interference disappears, and they behave like normal particles. Another example of this weird quantum behavior is the well-known **Schrödinger’s Cat** thought experiment, which also shows how measurement can change a system.\n",
    "In this notebook, we’ll explore how particles behave in these kinds of experiments, both **with** and **without** measurement.\n"
   ]
  },
  {
   "attachments": {
    "double-slit-exp.jpg": {
     "image/jpeg": "[encoded data removed]"
    }
   },
   "cell_type": "markdown",
   "id": "ebcfd9d3",
   "metadata": {},
   "source": [
    "### **Young's Double Slit Experiment**\n",
    "\n",
    "This famous experiment was first performed by [Thomas Young](https://en.wikipedia.org/wiki/Thomas_Young_(scientist)) in 1801. It demonstrates that light and matter exhibit the behavior of both classical particles and classical waves — a key idea in quantum mechanics known as **wave-particle duality**. The experiment falls under the class of *double-path experiments*, where a wave (such as light) is split into two paths using slits, and then the two resulting wavefronts combine on a screen to produce an **interference pattern** — alternating bright and dark fringes. This wave-like interference was well understood for light and water waves at the time, so it wasn’t surprising when done with beams of light. However, things became strange when the same experiment was repeated with **particles** like electrons, atoms, or even large molecules. If we throw particles one by one from a source and allow them to pass through either of the two slits without disturbing them or trying to detect which slit they went through, we surprisingly **still get an interference pattern**. This suggests that **each particle behaves like a wave**, interfering with itself as if it went through **both slits simultaneously** — a manifestation of quantum **superposition**. Now, if we place detectors at the slits to observe **which slit** each particle goes through, the interference pattern **disappears**. Instead, we see two distinct bands on the screen — the pattern we would expect from classical particles going through one slit or the other. This change in behavior upon observation is a direct example of **quantum measurement collapse**: by measuring the system, we force the particle to 'choose' a slit, thereby destroying its superposition state.\n",
    "\n",
    "![double-slit-exp.jpg](attachment:double-slit-exp.jpg)\n",
    "\n",
    "This experiment not only confirms the wave-particle duality of matter and light but also highlights the profound role of the observer in quantum mechanics. It shows that the **act of measurement itself affects the outcome**, a principle that challenges our classical intuition and forms the foundation of quantum theory.\n"
   ]
  },
  {
   "cell_type": "code",
   "execution_count": 2,
   "id": "50e1d5d9",
   "metadata": {},
   "outputs": [],
   "source": [
    "import qiskit\n",
    "from qiskit import QuantumCircuit, transpile\n",
    "from qiskit.visualization import plot_histogram, plot_distribution\n",
    "from qiskit.circuit import Parameter\n",
    "from qiskit_ibm_runtime import Options, Session, SamplerV2 as sampler, QiskitRuntimeService\n",
    "from qiskit_aer import AerSimulator\n",
    "from qiskit.result import marginal_distribution\n",
    "from qiskit.transpiler import generate_preset_pass_manager\n",
    "import matplotlib.pyplot as plt\n",
    "import ipywidgets as widgets\n",
    "from IPython.display import display\n",
    "import io"
   ]
  },
  {
   "cell_type": "code",
   "execution_count": null,
   "id": "74bddaf5",
   "metadata": {},
   "outputs": [],
   "source": []
  },
  {
   "cell_type": "code",
   "execution_count": null,
   "id": "a0be014f",
   "metadata": {},
   "outputs": [],
   "source": []
  }
 ],
 "metadata": {
  "kernelspec": {
   "display_name": "cwq",
   "language": "python",
   "name": "python3"
  },
  "language_info": {
   "codemirror_mode": {
    "name": "ipython",
    "version": 3
   },
   "file_extension": ".py",
   "mimetype": "text/x-python",
   "name": "python",
   "nbconvert_exporter": "python",
   "pygments_lexer": "ipython3",
   "version": "3.13.5"
  }
 },
 "nbformat": 4,
 "nbformat_minor": 5
}
