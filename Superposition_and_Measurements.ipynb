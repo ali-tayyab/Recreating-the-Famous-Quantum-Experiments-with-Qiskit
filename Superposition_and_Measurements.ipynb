{
 "cells": [
  {
   "cell_type": "markdown",
   "id": "de6c49a5",
   "metadata": {},
   "source": [
    "### **Superposition, Interference and Measurement**\n",
    "Superposition and measurement are two core concepts in quantum computing. If we start from very basic, unlike classical bits quantum bits or qubits behaves like it is in state 0 and 1 at the same time. This is because a qubit is in superposition where it can be in its all possible states, until we observe it. When we measure a qubit, the wavefunction collapse into one of the basis state : $\\ket{0}$ or $\\ket{1}$. One of the most famous experiment demonstrating these concepts is the **double-slit experiment**. In this notebook, we'll see the behavior of particles when passed through detector with or without the presence of detector. The famous **Schrodinger's Cat Experiment** is also that strange as the behavior of particles when they pass through slits."
   ]
  },
  {
   "cell_type": "code",
   "execution_count": 1,
   "id": "50e1d5d9",
   "metadata": {},
   "outputs": [],
   "source": [
    "import qiskit\n",
    "from qiskit import QuantumCircuit, transpile\n",
    "from qiskit.visualization import plot_histogram, plot_distribution\n",
    "from qiskit.circuit import Parameter\n",
    "from qiskit_ibm_runtime import Options, Session, SamplerV2 as sampler, QiskitRuntimeService\n",
    "from qiskit_aer import AerSimulator\n",
    "from qiskit.result import marginal_distribution\n",
    "from qiskit.transpiler import generate_preset_pass_manager\n",
    "import matplotlib.pyplot as plt\n",
    "import ipywidgets as widgets\n",
    "from IPython.display import display\n",
    "import io"
   ]
  },
  {
   "cell_type": "code",
   "execution_count": null,
   "id": "74bddaf5",
   "metadata": {},
   "outputs": [],
   "source": []
  },
  {
   "cell_type": "code",
   "execution_count": null,
   "id": "a0be014f",
   "metadata": {},
   "outputs": [],
   "source": []
  }
 ],
 "metadata": {
  "kernelspec": {
   "display_name": "cwq",
   "language": "python",
   "name": "python3"
  },
  "language_info": {
   "codemirror_mode": {
    "name": "ipython",
    "version": 3
   },
   "file_extension": ".py",
   "mimetype": "text/x-python",
   "name": "python",
   "nbconvert_exporter": "python",
   "pygments_lexer": "ipython3",
   "version": "3.13.5"
  }
 },
 "nbformat": 4,
 "nbformat_minor": 5
}
